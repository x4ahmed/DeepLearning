{
 "cells": [
  {
   "cell_type": "markdown",
   "id": "cf496c1c",
   "metadata": {},
   "source": [
    "# Lab 3\n",
    "\n",
    "## Imports"
   ]
  },
  {
   "cell_type": "code",
   "execution_count": 1,
   "id": "bc9fef01",
   "metadata": {
    "execution": {
     "iopub.execute_input": "2021-11-02T09:30:45.459339Z",
     "iopub.status.busy": "2021-11-02T09:30:45.457996Z",
     "iopub.status.idle": "2021-11-02T09:30:46.456084Z",
     "shell.execute_reply": "2021-11-02T09:30:46.456532Z"
    },
    "pycharm": {
     "name": "#%%\n"
    }
   },
   "outputs": [],
   "source": [
    "from typing import Any\n",
    "\n",
    "import torch\n",
    "from torch.autograd import Function\n",
    "from torch import Tensor\n",
    "\n",
    "import matplotlib.pyplot as plt\n",
    "from  matplotlib_inline.backend_inline import set_matplotlib_formats\n",
    "set_matplotlib_formats('png', 'pdf')"
   ]
  },
  {
   "cell_type": "markdown",
   "id": "087923a5",
   "metadata": {
    "pycharm": {
     "name": "#%% md\n"
    }
   },
   "source": [
    "## Exercise 1 (5P)\n",
    "This exercise is about gradient descent. We will use the function\n",
    "$f(x_1, x_2)=(x_1-6)^2+x_2^2-x_1x_2$ as a running example:\n",
    "\n",
    " 1. Use pen and paper to do three iterations of gradient descent: (2P)\n",
    "     - Find the gradient of $f$;\n",
    "     - Start from the point $x_1=x_2=6$ and use a step size of $1/2$ for the first step,\n",
    "    $1/3$ for the second step and $1/4$ for the third step;\n",
    "     - What will happen if you keep going?\n",
    " 2. Write a function that performs gradient descent:    (3P)\n",
    "     - For simplicity, we use a constant learning rate.\n",
    "     - Can you find a way to prematurely stop the optimization when you are close to the\n",
    "    optimum?"
   ]
  },
  {
   "cell_type": "code",
   "execution_count": 2,
   "id": "327dc818",
   "metadata": {
    "execution": {
     "iopub.execute_input": "2021-11-02T09:30:46.463363Z",
     "iopub.status.busy": "2021-11-02T09:30:46.462933Z",
     "iopub.status.idle": "2021-11-02T09:30:46.469661Z",
     "shell.execute_reply": "2021-11-02T09:30:46.469251Z"
    },
    "pycharm": {
     "name": "#%%\n"
    }
   },
   "outputs": [
    {
     "name": "stdout",
     "output_type": "stream",
     "text": [
      "\n"
     ]
    }
   ],
   "source": [
    "# Note: Defining a custom autograd function is not a necessity for this small task,\n",
    "# but it is a good place to showcase some capabilities of PyTorch.\n",
    "\n",
    "class MyFunction(Function):\n",
    "    @staticmethod\n",
    "    def forward(ctx: Any, x: Tensor) -> Tensor:\n",
    "        # The \"ctx\" object serves to stash information for the backward pass\n",
    "        ctx.save_for_backward(x)\n",
    "        func_value = (\n",
    "# TODO compute the value of f at x.\n",
    "        )\n",
    "        return func_value\n",
    "\n",
    "    @staticmethod\n",
    "    def backward(ctx: Any, grad_output: Tensor):\n",
    "        # The \"grad_output\" parameter is the backpropagated gradient from subsequent\n",
    "        # operations w.r.t. to the output of this function.\n",
    "        x = ctx.saved_tensors[0]\n",
    "\n",
    "        grad_x = torch.tensor([\n",
    "# TODO compute the gradient of f at x.\n",
    "        ])\n",
    "        return grad_output * grad_x"
   ]
  },
  {
   "cell_type": "code",
   "execution_count": 3,
   "id": "d3a19fe2",
   "metadata": {
    "execution": {
     "iopub.execute_input": "2021-11-02T09:30:46.473313Z",
     "iopub.status.busy": "2021-11-02T09:30:46.472900Z",
     "iopub.status.idle": "2021-11-02T09:30:46.481709Z",
     "shell.execute_reply": "2021-11-02T09:30:46.482042Z"
    },
    "pycharm": {
     "name": "#%%\n"
    }
   },
   "outputs": [
    {
     "name": "stdout",
     "output_type": "stream",
     "text": [
      "\n"
     ]
    }
   ],
   "source": [
    "\n",
    "func = MyFunction()\n",
    "# The \"required_grad\" argument needs to be True.\n",
    "# Otherwise no gradients will be computed.\n",
    "x = torch.tensor([6., 6.], requires_grad=True)\n",
    "\n",
    "# Custom functions are applied over the \"apply\" method.\n",
    "y = func.apply(x)\n",
    "print('Function output: {}'.format(y))\n",
    "\n",
    "# Gradients for every operation in this chain are computed\n",
    "# by calling the \"backward\" method on the output tensor.\n",
    "y.backward()\n",
    "\n",
    "# The x tensor now has a grad attribute with the gradients.\n",
    "print('Gradients: {}'.format(x.grad))\n",
    "\n",
    "# Note: No usage of auto differentiation was done in this example."
   ]
  },
  {
   "cell_type": "markdown",
   "id": "17e8d5d3",
   "metadata": {
    "pycharm": {
     "name": "#%% md\n"
    }
   },
   "source": [
    "Does it match what you computed?\n",
    "\n",
    "In the next step we define a small gradient descent optimizer."
   ]
  },
  {
   "cell_type": "code",
   "execution_count": 4,
   "id": "4e7e3964",
   "metadata": {
    "execution": {
     "iopub.execute_input": "2021-11-02T09:30:46.485892Z",
     "iopub.status.busy": "2021-11-02T09:30:46.485472Z",
     "iopub.status.idle": "2021-11-02T09:30:46.494383Z",
     "shell.execute_reply": "2021-11-02T09:30:46.494728Z"
    },
    "pycharm": {
     "name": "#%%\n"
    }
   },
   "outputs": [
    {
     "name": "stdout",
     "output_type": "stream",
     "text": [
      "\n"
     ]
    }
   ],
   "source": [
    "\n",
    "class GradientDescentOptimizer:\n",
    "    def __init__(self,\n",
    "                 func: Function,\n",
    "                 max_steps: int,\n",
    "                 alpha: float):\n",
    "        \"\"\"\n",
    "        Init an Optimizer for performing GD.\n",
    "\n",
    "        :param func: Function to apply.\n",
    "        :param max_steps: Maximum number of GD steps.\n",
    "        :param alpha: Learning Rate.\n",
    "        \"\"\"\n",
    "        self.func = func\n",
    "        self.max_steps = max_steps\n",
    "        self.alpha = alpha\n",
    "\n",
    "    def __call__(self, x: Tensor) -> Tensor:\n",
    "        \"\"\"\n",
    "        Apply GD on a tensor.\n",
    "\n",
    "        :param x: Input tensor.\n",
    "        \"\"\"\n",
    "        # Usually you would apply the gradients inplace on the input tensor,\n",
    "        # but for the sake of the example we keep the input tensor consistent and\n",
    "        # work on a copy.\n",
    "        x_cp = x.detach().clone()\n",
    "        x_cp.requires_grad = True\n",
    "\n",
    "# TODO use a for loop to do gradient descent.\n",
    "# HINT When applying gradients you will need an \"torch.no_grad()\" context\n",
    "# manager. To modify the content of the tensor you will need its \".data\"\n",
    "# attribute. Don't forget to erase the gradients after each iteration or\n",
    "# or they will accumulate.\n",
    "        return x_cp"
   ]
  },
  {
   "cell_type": "code",
   "execution_count": 5,
   "id": "d64facbe",
   "metadata": {
    "execution": {
     "iopub.execute_input": "2021-11-02T09:30:46.500439Z",
     "iopub.status.busy": "2021-11-02T09:30:46.497899Z",
     "iopub.status.idle": "2021-11-02T09:30:46.506464Z",
     "shell.execute_reply": "2021-11-02T09:30:46.506822Z"
    },
    "pycharm": {
     "name": "#%%\n"
    }
   },
   "outputs": [
    {
     "name": "stdout",
     "output_type": "stream",
     "text": [
      "\n"
     ]
    }
   ],
   "source": [
    "x = torch.tensor([6., 6.], requires_grad=True)\n",
    "gd_optimizer = GradientDescentOptimizer(func=MyFunction(), max_steps=10, alpha=0.1)\n",
    "x_new = gd_optimizer(x)\n",
    "print(x_new)"
   ]
  },
  {
   "cell_type": "markdown",
   "id": "bb9c4a04",
   "metadata": {
    "pycharm": {
     "name": "#%% md\n"
    }
   },
   "source": [
    "## Exercise 2 (5P)\n",
    "\n",
    "Now that we know how to do gradient descent and how to compute the derivatives of the\n",
    "weights of a simple network, we can try to do these steps together and train our first\n",
    "neural network! We will use the small dataset with five points we studied in the first\n",
    "lab.\n",
    "\n",
    "First, let's define the dataset:"
   ]
  },
  {
   "cell_type": "code",
   "execution_count": 6,
   "id": "27eb3387",
   "metadata": {
    "execution": {
     "iopub.execute_input": "2021-11-02T09:30:46.512028Z",
     "iopub.status.busy": "2021-11-02T09:30:46.511540Z",
     "iopub.status.idle": "2021-11-02T09:30:46.513897Z",
     "shell.execute_reply": "2021-11-02T09:30:46.513546Z"
    },
    "pycharm": {
     "name": "#%%\n"
    }
   },
   "outputs": [],
   "source": [
    "x = torch.tensor([\n",
    "    [0, 0],\n",
    "    [1, 0],\n",
    "    [0, -1],\n",
    "    [-1, 0],\n",
    "    [0, 1]\n",
    "], dtype=torch.float)\n",
    "y = torch.tensor([1, 0, 0, 0, 0])"
   ]
  },
  {
   "cell_type": "markdown",
   "id": "cf14ad06",
   "metadata": {
    "pycharm": {
     "name": "#%% md\n"
    }
   },
   "source": [
    "Next, a function to compute the output of the network: (1P)"
   ]
  },
  {
   "cell_type": "code",
   "execution_count": 7,
   "id": "40cb931b",
   "metadata": {
    "execution": {
     "iopub.execute_input": "2021-11-02T09:30:46.519874Z",
     "iopub.status.busy": "2021-11-02T09:30:46.516860Z",
     "iopub.status.idle": "2021-11-02T09:30:46.526155Z",
     "shell.execute_reply": "2021-11-02T09:30:46.526477Z"
    },
    "pycharm": {
     "name": "#%%\n"
    }
   },
   "outputs": [
    {
     "name": "stdout",
     "output_type": "stream",
     "text": [
      "\n"
     ]
    }
   ],
   "source": [
    "\n",
    "def sigmoid(x: Tensor) -> Tensor:\n",
    "# TODO compute the sigmoid on x and return.\n",
    "\n",
    "def predict(x: Tensor, b1: float, b2: float,\n",
    "            w11: float, w12: float, w21: float, w22: float,\n",
    "            c: float, u1: float, u2:float) -> Tensor:\n",
    "# TODO compute and return the output of the network.\n",
    "\n",
    "# This should return the predictions for the five points in the datasets\n",
    "# We can unpack the param vector for the positional params of the function so that we don't\n",
    "# need to enter every single entry.\n",
    "params = torch.randn(9)\n",
    "predictions = predict(x, *params)"
   ]
  },
  {
   "cell_type": "markdown",
   "id": "31d0e1dc",
   "metadata": {
    "pycharm": {
     "name": "#%% md\n"
    }
   },
   "source": [
    "Since gradient descent is done on the loss function, we need a function to compute it:  (1P)"
   ]
  },
  {
   "cell_type": "code",
   "execution_count": 8,
   "id": "41777b3e",
   "metadata": {
    "execution": {
     "iopub.execute_input": "2021-11-02T09:30:46.532141Z",
     "iopub.status.busy": "2021-11-02T09:30:46.529706Z",
     "iopub.status.idle": "2021-11-02T09:30:46.539113Z",
     "shell.execute_reply": "2021-11-02T09:30:46.539436Z"
    },
    "pycharm": {
     "name": "#%%\n"
    }
   },
   "outputs": [
    {
     "name": "stdout",
     "output_type": "stream",
     "text": [
      "\n"
     ]
    }
   ],
   "source": [
    "\n",
    "def get_loss(target: Tensor, pred: Tensor) -> Tensor:\n",
    "# TODO return the average loss.\n",
    "\n",
    "loss = get_loss(y, predictions)\n",
    "print(loss)"
   ]
  },
  {
   "cell_type": "markdown",
   "id": "98176c21",
   "metadata": {
    "pycharm": {
     "name": "#%% md\n"
    }
   },
   "source": [
    "Now, we need to compute the gradient of each parameter: (3P)"
   ]
  },
  {
   "cell_type": "code",
   "execution_count": 9,
   "id": "1608c05a",
   "metadata": {
    "execution": {
     "iopub.execute_input": "2021-11-02T09:30:46.543381Z",
     "iopub.status.busy": "2021-11-02T09:30:46.542953Z",
     "iopub.status.idle": "2021-11-02T09:30:46.552232Z",
     "shell.execute_reply": "2021-11-02T09:30:46.552588Z"
    },
    "pycharm": {
     "name": "#%%\n"
    }
   },
   "outputs": [
    {
     "name": "stdout",
     "output_type": "stream",
     "text": [
      "\n"
     ]
    }
   ],
   "source": [
    "\n",
    "def get_gradients(x: Tensor, target: Tensor,\n",
    "            b1: float, b2: float,\n",
    "            w11: float, w12: float, w21: float, w22: float,\n",
    "            c: float, u1: float, u2:float) -> Tensor:\n",
    "    # First, we perform the forward pass.\n",
    "    z1in = b1 + x[:, 0] * w11 + x[:, 1] * w21\n",
    "    z1out = torch.tanh(z1in)\n",
    "\n",
    "    z2in = b2 + x[:, 0] * w12 + x[:, 1] * w22\n",
    "    z2out = torch.tanh(z2in)\n",
    "\n",
    "    fin = c + u1 * z1out + u2 * z2out\n",
    "    fout = sigmoid(fin)\n",
    "\n",
    "# TODO compute all the partial derivatives.\n",
    "    \n",
    "    # Return the derivatives in the same order as the parameters vector\n",
    "    return torch.stack([\n",
    "        dL_db1, dL_db2, dL_dw11, dL_dw12, dL_dw21, dL_dw22, dL_dc, dL_du1, dL_du2  \n",
    "    ])\n",
    "\n",
    "print(get_gradients(x, y, *params))"
   ]
  },
  {
   "cell_type": "markdown",
   "id": "2deb2e1a",
   "metadata": {
    "pycharm": {
     "name": "#%% md\n"
    }
   },
   "source": [
    "Finite differences are a useful way to check that the gradients are computed correctly:"
   ]
  },
  {
   "cell_type": "code",
   "execution_count": 10,
   "id": "5fcd8af7",
   "metadata": {
    "execution": {
     "iopub.execute_input": "2021-11-02T09:30:46.556514Z",
     "iopub.status.busy": "2021-11-02T09:30:46.556080Z",
     "iopub.status.idle": "2021-11-02T09:30:46.566739Z",
     "shell.execute_reply": "2021-11-02T09:30:46.566278Z"
    },
    "pycharm": {
     "name": "#%%\n"
    }
   },
   "outputs": [
    {
     "name": "stdout",
     "output_type": "stream",
     "text": [
      "\n"
     ]
    }
   ],
   "source": [
    "\n",
    "# First, compute the analytical gradient of the parameters.\n",
    "gradient = get_gradients(x, y, *params)\n",
    "eps = 1e-9\n",
    "for i in range(9):\n",
    "    # Compute loss when subtracting eps to parameter i.\n",
    "    neg_params = params.clone()\n",
    "    neg_params[i] = neg_params[i] - eps\n",
    "    neg_value = get_loss(y, predict(x, *neg_params))\n",
    "\n",
    "    # Compute loss when adding eps to parameter i.\n",
    "    pos_params = params.clone()\n",
    "    pos_params[i] = pos_params[i] + eps\n",
    "    pos_value = get_loss(y, predict(x, *pos_params))\n",
    "\n",
    "    # Compute the \"empirical\" gradient of parameter i\n",
    "    fdiff_gradient = torch.mean((pos_value - neg_value) / (2 * eps))\n",
    "\n",
    "    # Error if difference is too large\n",
    "    if torch.abs(gradient[i] - fdiff_gradient) < 1e-5:\n",
    "        raise ValueError('Gradients are probably wrong!')\n",
    "\n",
    "print(\"Gradients are correct!\")"
   ]
  },
  {
   "cell_type": "markdown",
   "id": "03bdbdd7",
   "metadata": {
    "pycharm": {
     "name": "#%% md\n"
    }
   },
   "source": [
    "We can finally train our network. Since the network is so small compared to the dataset,\n",
    " the training procedure is very sensitive to the way the weights are initialized and\n",
    " the step size used in gradient descent.\n",
    "\n",
    "Try to play around with the learning rate and the random initialization of the weights\n",
    "and find reliable values that make training successful in most cases."
   ]
  },
  {
   "cell_type": "code",
   "execution_count": 11,
   "id": "0aea17e1",
   "metadata": {
    "execution": {
     "iopub.execute_input": "2021-11-02T09:30:46.573850Z",
     "iopub.status.busy": "2021-11-02T09:30:46.570712Z",
     "iopub.status.idle": "2021-11-02T09:30:46.581562Z",
     "shell.execute_reply": "2021-11-02T09:30:46.582039Z"
    },
    "pycharm": {
     "name": "#%%\n"
    }
   },
   "outputs": [
    {
     "name": "stdout",
     "output_type": "stream",
     "text": [
      "\n"
     ]
    }
   ],
   "source": [
    "\n",
    "min_loss = 10\n",
    "alpha = 1.\n",
    "steps = 100\n",
    "best_params = None\n",
    "\n",
    "for i in range(10):\n",
    "    params = torch.randn(9)\n",
    "\n",
    "    # Do GD\n",
    "    for _ in range(steps):\n",
    "        gradients = get_gradients(x, y, *params)\n",
    "        params -= alpha * gradients\n",
    "\n",
    "    final_loss = get_loss(y, predict(x, *params))\n",
    "    print('RUN {} \\t LOSS {:.4f}'.format(i + 1, float(final_loss)))\n",
    "\n",
    "    if final_loss < min_loss:\n",
    "        best_params = params\n",
    "        min_loss = final_loss"
   ]
  },
  {
   "cell_type": "markdown",
   "id": "d31c36a2",
   "metadata": {
    "pycharm": {
     "name": "#%% md\n"
    }
   },
   "source": [
    "We can use the function in the previous lab to visualize the decision boundary of\n",
    "the best network:"
   ]
  },
  {
   "cell_type": "code",
   "execution_count": 12,
   "id": "ebc92e27",
   "metadata": {
    "execution": {
     "iopub.execute_input": "2021-11-02T09:30:46.587206Z",
     "iopub.status.busy": "2021-11-02T09:30:46.586464Z",
     "iopub.status.idle": "2021-11-02T09:30:46.600956Z",
     "shell.execute_reply": "2021-11-02T09:30:46.599887Z"
    },
    "pycharm": {
     "name": "#%%\n"
    }
   },
   "outputs": [
    {
     "name": "stdout",
     "output_type": "stream",
     "text": [
      "\n"
     ]
    }
   ],
   "source": [
    "\n",
    "def plot_decision_boundary(\n",
    "        x: Tensor, y: Tensor, grid_x: Tensor, grid_y, pred: Tensor) -> None:\n",
    "    \"\"\"Plot the estimated decision boundary for a 2D grid with predictions.\"\"\"\n",
    "    plt.contourf(grid_x, grid_y, pred.view(grid_x.shape))\n",
    "    plt.scatter(x[:, 0], x[:, 1], c=y, cmap='jet')\n",
    "    plt.show()"
   ]
  },
  {
   "cell_type": "code",
   "execution_count": 13,
   "id": "76408200",
   "metadata": {
    "execution": {
     "iopub.execute_input": "2021-11-02T09:30:46.608122Z",
     "iopub.status.busy": "2021-11-02T09:30:46.604795Z",
     "iopub.status.idle": "2021-11-02T09:30:46.615511Z",
     "shell.execute_reply": "2021-11-02T09:30:46.614827Z"
    },
    "pycharm": {
     "name": "#%%\n"
    }
   },
   "outputs": [
    {
     "name": "stdout",
     "output_type": "stream",
     "text": [
      "\n"
     ]
    }
   ],
   "source": [
    "\n",
    "grid_range = torch.linspace(-2, 2, 50)\n",
    "grid_x, grid_y = torch.meshgrid(grid_range, grid_range)\n",
    "grid_data = torch.stack([grid_x.flatten(), grid_y.flatten()]).T\n",
    "pred = predict(grid_data, *best_params)\n",
    "\n",
    "plot_decision_boundary(x, y, grid_x, grid_y, pred)\n",
    "\n"
   ]
  },
  {
   "cell_type": "markdown",
   "id": "c79832f6",
   "metadata": {
    "pycharm": {
     "name": "#%% md\n"
    }
   },
   "source": [
    "Also try to visualize the decision boundary of network with random parameters:"
   ]
  },
  {
   "cell_type": "code",
   "execution_count": 14,
   "id": "fe076411",
   "metadata": {
    "execution": {
     "iopub.execute_input": "2021-11-02T09:30:46.622414Z",
     "iopub.status.busy": "2021-11-02T09:30:46.619648Z",
     "iopub.status.idle": "2021-11-02T09:30:46.630281Z",
     "shell.execute_reply": "2021-11-02T09:30:46.629575Z"
    },
    "pycharm": {
     "name": "#%%\n"
    }
   },
   "outputs": [
    {
     "name": "stdout",
     "output_type": "stream",
     "text": [
      "\n"
     ]
    }
   ],
   "source": [
    "pred = predict(grid_data, *torch.randn(9))\n",
    "plot_decision_boundary(x, y, grid_x, grid_y, pred)"
   ]
  }
 ],
 "metadata": {
  "kernelspec": {
   "display_name": "Python 3 (ipykernel)",
   "language": "python",
   "name": "python3"
  },
  "language_info": {
   "codemirror_mode": {
    "name": "ipython",
    "version": 3
   },
   "file_extension": ".py",
   "mimetype": "text/x-python",
   "name": "python",
   "nbconvert_exporter": "python",
   "pygments_lexer": "ipython3",
   "version": "3.8.5"
  }
 },
 "nbformat": 4,
 "nbformat_minor": 5
}

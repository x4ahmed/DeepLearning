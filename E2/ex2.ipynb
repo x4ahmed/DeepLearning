{
 "cells": [
  {
   "cell_type": "markdown",
   "id": "689015db",
   "metadata": {
    "pycharm": {
     "name": "#%% md\n"
    }
   },
   "source": [
    "# Lab 2\n",
    "\n",
    "## Imports"
   ]
  },
  {
   "cell_type": "code",
   "execution_count": null,
   "id": "8ec380ff",
   "metadata": {
    "execution": {
     "iopub.execute_input": "2021-10-26T08:31:06.893801Z",
     "iopub.status.busy": "2021-10-26T08:31:06.891786Z",
     "iopub.status.idle": "2021-10-26T08:31:07.451064Z",
     "shell.execute_reply": "2021-10-26T08:31:07.451393Z"
    },
    "pycharm": {
     "name": "#%%\n"
    }
   },
   "outputs": [],
   "source": [
    "import torch\n",
    "import numpy as np\n",
    "from torch import Tensor\n",
    "\n",
    "import matplotlib.pyplot as plt\n",
    "from  matplotlib_inline.backend_inline import set_matplotlib_formats\n",
    "set_matplotlib_formats('png', 'pdf')"
   ]
  },
  {
   "cell_type": "markdown",
   "id": "a659df98",
   "metadata": {},
   "source": [
    "## Exercise 1 (2P)\n",
    "\n",
    "Implement matrix multiplication `matmul(A, B)` *without* np.dot / @ / np.matmul.\n",
    "Use it to perform a forward pass through a neural network:\n",
    "    X -> [W1,b1] -> sigmoid -> [W2,b2] -> sigmoid -> [W3,b3] -> softmax\n",
    "Test it on 4 different 5×5 input matrices and verify correctness."
   ]
  },
  {
   "cell_type": "code",
   "execution_count": null,
   "id": "fa3846d0",
   "metadata": {},
   "outputs": [],
   "source": [
    "def sigmoid(z):\n",
    "#   TODO implement the sigmoid function.\n",
    "\n",
    "def softmax(logits):\n",
    "#   TODO implement the softmax function."
   ]
  },
  {
   "cell_type": "code",
   "execution_count": null,
   "id": "61e29d6a",
   "metadata": {},
   "outputs": [],
   "source": [
    "def matmul(A, B):\n",
    "#   TODO implement a function that multiplies two matrices. Make sure the matrices match accordingly."
   ]
  },
  {
   "cell_type": "code",
   "execution_count": null,
   "id": "6398676a",
   "metadata": {},
   "outputs": [],
   "source": [
    "params = {\n",
    "    # Input → Hidden 1 weights and bias\n",
    "    \"W1\": np.array([\n",
    "        [0.1, 0.2, 0.3, 0.4, 0.5],\n",
    "        [0.5, 0.4, 0.3, 0.2, 0.1],\n",
    "        [0.2, 0.1, 0.4, 0.3, 0.5],\n",
    "        [0.3, 0.5, 0.1, 0.2, 0.4],\n",
    "        [0.4, 0.3, 0.5, 0.1, 0.2],\n",
    "    ]),\n",
    "    \"b1\": np.array([-0.1, -0.05, 0.0, 0.05, 0.1]),\n",
    "\n",
    "    # Hidden 1 → Hidden 2 weights and bias\n",
    "    \"W2\": np.array([\n",
    "        [0.1, 0.3, 0.5, 0.7, 0.9],\n",
    "        [0.9, 0.7, 0.5, 0.3, 0.1],\n",
    "        [0.2, 0.4, 0.6, 0.8, 1.0],\n",
    "        [1.0, 0.8, 0.6, 0.4, 0.2],\n",
    "        [0.5, 0.5, 0.5, 0.5, 0.5],\n",
    "    ]),\n",
    "    \"b2\": np.array([-0.02, -0.01, 0.0, 0.01, 0.02]),\n",
    "\n",
    "    # Hidden 2 → Output weights and bias\n",
    "    \"W3\": np.array([\n",
    "        [0.05, 0.10, 0.15, 0.20, 0.25],\n",
    "        [0.25, 0.20, 0.15, 0.10, 0.05],\n",
    "        [0.10, 0.20, 0.30, 0.40, 0.50],\n",
    "        [0.50, 0.40, 0.30, 0.20, 0.10],\n",
    "        [0.15, 0.25, 0.35, 0.45, 0.55],\n",
    "    ]),\n",
    "    \"b3\": np.array([-0.01, -0.005, 0.0, 0.005, 0.01]),\n",
    "}\n",
    "\n",
    "\n",
    "D, H1, H2, C = 5, 5, 5, 5"
   ]
  },
  {
   "cell_type": "code",
   "execution_count": null,
   "id": "1ffae379",
   "metadata": {},
   "outputs": [],
   "source": [
    "def forward_two_hidden(X, params):\n",
    "#   TODO implenent a forward function, using the provided parameters."
   ]
  },
  {
   "cell_type": "code",
   "execution_count": null,
   "id": "ced4afbd",
   "metadata": {},
   "outputs": [],
   "source": [
    "X_list = [\n",
    "    np.eye(5),  # 1. Identity matrix\n",
    "    np.array([\n",
    "        [0, 1, 2, 3, 4],\n",
    "        [1, 2, 3, 4, 5],\n",
    "        [2, 3, 4, 5, 6],\n",
    "        [3, 4, 5, 6, 7],\n",
    "        [4, 5, 6, 7, 8],\n",
    "    ], dtype=float),\n",
    "    np.array([\n",
    "        [0, 0, 0, 0, 0],\n",
    "        [1, 1, 1, 1, 1],\n",
    "        [2, 2, 2, 2, 2],\n",
    "        [3, 3, 3, 3, 3],\n",
    "        [4, 4, 4, 4, 4],\n",
    "    ], dtype=float),\n",
    "    np.array([\n",
    "        [1, -1,  1, -1,  1],\n",
    "        [-1, 1, -1, 1, -1],\n",
    "        [1,  1, -1, -1, 1],\n",
    "        [-1, -1, 1, 1, -1],\n",
    "        [0.5, 0.5, 0.5, 0.5, 0.5],\n",
    "    ], dtype=float),\n",
    "]"
   ]
  },
  {
   "cell_type": "markdown",
   "id": "e729bf90",
   "metadata": {},
   "source": [
    "Use the constructed network to calculate the estimates for the matrices above."
   ]
  },
  {
   "cell_type": "code",
   "execution_count": null,
   "id": "645e8443",
   "metadata": {},
   "outputs": [],
   "source": [
    "#   TODO Evaluate the provided matrices."
   ]
  },
  {
   "cell_type": "markdown",
   "id": "2c346b49",
   "metadata": {
    "pycharm": {
     "name": "#%% md\n"
    }
   },
   "source": [
    "<div>\n",
    "<img src=\"lab2f1.png\" width=\"300\"/>\n",
    "</div>"
   ]
  },
  {
   "cell_type": "markdown",
   "id": "1054bc5d",
   "metadata": {
    "pycharm": {
     "name": "#%% md\n"
    }
   },
   "source": [
    "You should make sure that the last two values are close to one and the others\n",
    "are close to zero.\n",
    "\n",
    "**Note:** There are many valid parametrization that lead to a separating hyperplane. How would you prioritize between them?\n",
    "\n",
    "<!-- #region pycharm={\"name\": \"#%% md\\n\"} -->\n",
    "## Exercise 2 (8P)\n",
    "\n",
    "In this exercise, we are going to create a neural network with two hidden layers and\n",
    "threshold activation that can correctly separate the cyan region from the rest in the\n",
    "plot below. We will do this by composing linear classifiers just like we did in the\n",
    "previous lab."
   ]
  },
  {
   "cell_type": "code",
   "execution_count": 2,
   "id": "982c27de",
   "metadata": {
    "execution": {
     "iopub.execute_input": "2021-10-26T08:31:07.470900Z",
     "iopub.status.busy": "2021-10-26T08:31:07.469989Z",
     "iopub.status.idle": "2021-10-26T08:31:07.645117Z",
     "shell.execute_reply": "2021-10-26T08:31:07.645433Z"
    },
    "pycharm": {
     "name": "#%%\n"
    }
   },
   "outputs": [
    {
     "data": {
      "application/pdf": "[encoded data removed]",
      "image/png": "[encoded data removed]",
      "text/plain": [
       "<Figure size 432x288 with 1 Axes>"
      ]
     },
     "metadata": {
      "needs_background": "light"
     },
     "output_type": "display_data"
    }
   ],
   "source": [
    "dots = torch.tensor([[-1, 1], [-1, -1], [0, 0], [1, 1], [1, -1]])\n",
    "plt.figure()\n",
    "plt.scatter(dots[:, 0], dots[:, 1])\n",
    "t1 = plt.Polygon([[-1, 1], [-1, -1], [0, 0]], color='#b3cde3')\n",
    "plt.gca().add_patch(t1)\n",
    "\n",
    "t2 = plt.Polygon(dots[2:5,:], color='#b3cde3')\n",
    "plt.gca().add_patch(t2)\n",
    "plt.show()"
   ]
  },
  {
   "cell_type": "markdown",
   "id": "339340cb",
   "metadata": {
    "pycharm": {
     "name": "#%% md\n"
    }
   },
   "source": [
    "Let us create a dataset containing points on a grid to test the network:"
   ]
  },
  {
   "cell_type": "code",
   "execution_count": 3,
   "id": "b2981d1c",
   "metadata": {
    "execution": {
     "iopub.execute_input": "2021-10-26T08:31:07.648604Z",
     "iopub.status.busy": "2021-10-26T08:31:07.648269Z",
     "iopub.status.idle": "2021-10-26T08:31:07.651458Z",
     "shell.execute_reply": "2021-10-26T08:31:07.651127Z"
    },
    "pycharm": {
     "name": "#%%\n"
    }
   },
   "outputs": [
    {
     "name": "stdout",
     "output_type": "stream",
     "text": [
      "torch.Size([2500, 3])\n",
      "tensor([[ 1.0000, -2.0000, -2.0000],\n",
      "        [ 1.0000, -2.0000, -1.9184],\n",
      "        [ 1.0000, -2.0000, -1.8367],\n",
      "        [ 1.0000, -2.0000, -1.7551],\n",
      "        [ 1.0000, -2.0000, -1.6735],\n",
      "        [ 1.0000, -2.0000, -1.5918],\n",
      "        [ 1.0000, -2.0000, -1.5102],\n",
      "        [ 1.0000, -2.0000, -1.4286],\n",
      "        [ 1.0000, -2.0000, -1.3469],\n",
      "        [ 1.0000, -2.0000, -1.2653]])\n"
     ]
    }
   ],
   "source": [
    "# Build a grid of equally-spaced points, plus a column for the bias\n",
    "grid_range = torch.linspace(-2, 2, 50)\n",
    "grid_x, grid_y = torch.meshgrid(grid_range, grid_range)\n",
    "data = torch.stack([torch.ones(50**2), grid_x.flatten(), grid_y.flatten()]).T\n",
    "\n",
    "print(data.shape)\n",
    "print(data[:10])"
   ]
  },
  {
   "cell_type": "markdown",
   "id": "0fb62762",
   "metadata": {
    "pycharm": {
     "name": "#%% md\n"
    }
   },
   "source": [
    "### First hidden layer\n",
    "The first hidden layer contains four neurons, each of which corresponds to a\n",
    "line in the plot below."
   ]
  },
  {
   "cell_type": "code",
   "execution_count": 4,
   "id": "388253c9",
   "metadata": {
    "execution": {
     "iopub.execute_input": "2021-10-26T08:31:07.668635Z",
     "iopub.status.busy": "2021-10-26T08:31:07.668285Z",
     "iopub.status.idle": "2021-10-26T08:31:07.784509Z",
     "shell.execute_reply": "2021-10-26T08:31:07.784780Z"
    },
    "pycharm": {
     "name": "#%%\n"
    }
   },
   "outputs": [
    {
     "data": {
      "application/pdf": "[encoded data removed]",
      "image/png": "[encoded data removed]",
      "text/plain": [
       "<Figure size 432x288 with 1 Axes>"
      ]
     },
     "metadata": {
      "needs_background": "light"
     },
     "output_type": "display_data"
    }
   ],
   "source": [
    "def plot_bowtie() -> None:\n",
    "    plt.plot((1.25,-1.25),(1.25,-1.25),'k')\n",
    "    plt.plot((1.25,-1.25),(-1.25,1.25),'k')\n",
    "    plt.plot((-1,-1),(-1.5,1.5),'k')\n",
    "    plt.plot((1,1),(-1.5,1.5),'k')\n",
    "\n",
    "plot_bowtie()\n",
    "plt.show()"
   ]
  },
  {
   "cell_type": "markdown",
   "id": "fc16a135",
   "metadata": {
    "pycharm": {
     "name": "#%% md\n"
    }
   },
   "source": [
    "The following functions visualizes the decision boundary of a neuron with sigmoid\n",
    "activation, $y=\\sigma(a+bx_1+cx_2)$. You can use it to help you find the right\n",
    "values for the weights."
   ]
  },
  {
   "cell_type": "code",
   "execution_count": 5,
   "id": "db71bf42",
   "metadata": {
    "execution": {
     "iopub.execute_input": "2021-10-26T08:31:07.789204Z",
     "iopub.status.busy": "2021-10-26T08:31:07.787317Z",
     "iopub.status.idle": "2021-10-26T08:31:07.793977Z",
     "shell.execute_reply": "2021-10-26T08:31:07.794247Z"
    },
    "pycharm": {
     "name": "#%%\n"
    }
   },
   "outputs": [
    {
     "name": "stdout",
     "output_type": "stream",
     "text": [
      "\n"
     ]
    }
   ],
   "source": [
    "\n",
    "def plot_decision_boundary(grid_x: Tensor, grid_y, pred: Tensor) -> None:\n",
    "    \"\"\"Plot the estimated decision boundary for a 2D grid with predictions.\"\"\"\n",
    "    plot_bowtie()\n",
    "    plt.contourf(grid_x, grid_y, pred.view(grid_x.shape))\n",
    "    plt.show()\n",
    "\n",
    "def activation(x: Tensor) -> Tensor:\n",
    "# TODO apply the threshold activation to x.\n",
    "\n",
    "def plot_decision_boundary_first_hidden(a: int, b: int, c: int) -> None:\n",
    "    \"\"\"Take 3 weights for one input neuron and plot resulting decision boundary.\"\"\"\n",
    "    neuron_output = (\n",
    "# TODO compute the output of the neuron with input weights given by a, b and c on\n",
    "# each point of the grid.\n",
    "    )\n",
    "    plot_decision_boundary(grid_x, grid_y, neuron_output)\n",
    "\n",
    "plot_decision_boundary_first_hidden(1, -2, 1)"
   ]
  },
  {
   "cell_type": "markdown",
   "id": "39e9c4b4",
   "metadata": {
    "pycharm": {
     "name": "#%% md\n"
    }
   },
   "source": [
    "For convenience, we group the parameters of the four neurons into a matrix with three\n",
    "rows and five columns (one is for the bias), so that their output can be computed in a\n",
    "single matrix multiplication. Each column contains the weights of a different neuron.\n",
    "The first column contains a \"fake\" hidden neuron for the bias, whose value is always\n",
    "one. Note that the first row of the weight matrix is connected to the bias of the\n",
    "previous layer."
   ]
  },
  {
   "cell_type": "code",
   "execution_count": 6,
   "id": "276ddfc2",
   "metadata": {
    "execution": {
     "iopub.execute_input": "2021-10-26T08:31:07.798703Z",
     "iopub.status.busy": "2021-10-26T08:31:07.797115Z",
     "iopub.status.idle": "2021-10-26T08:31:07.803407Z",
     "shell.execute_reply": "2021-10-26T08:31:07.803676Z"
    },
    "pycharm": {
     "name": "#%%\n"
    }
   },
   "outputs": [
    {
     "name": "stdout",
     "output_type": "stream",
     "text": [
      "\n"
     ]
    }
   ],
   "source": [
    "\n",
    "weights_1 = torch.tensor([\n",
    "    [1, 0, 0],   # bias neuron connected to the bias of the inputs\n",
    "# TODO find the coefficients for the first neuron.\n",
    "# TODO find the coefficients for the second neuron.\n",
    "# TODO find the coefficients for the third neuron.\n",
    "# TODO find the coefficients for the fourth neuron.\n",
    "], dtype=torch.float).T\n",
    "# Note: The weight matrix is transposed in the end. (5 x 3 --> 3 x 5)\n",
    "# This gives more readability when entering your weights manually.\n",
    "\n",
    "print(weights_1.shape)"
   ]
  },
  {
   "cell_type": "markdown",
   "id": "55e84b3d",
   "metadata": {
    "pycharm": {
     "name": "#%% md\n"
    }
   },
   "source": [
    "Let us plot the predictions of the four neurons:"
   ]
  },
  {
   "cell_type": "code",
   "execution_count": 7,
   "id": "92623b2a",
   "metadata": {
    "execution": {
     "iopub.execute_input": "2021-10-26T08:31:07.808443Z",
     "iopub.status.busy": "2021-10-26T08:31:07.806209Z",
     "iopub.status.idle": "2021-10-26T08:31:07.812630Z",
     "shell.execute_reply": "2021-10-26T08:31:07.812914Z"
    },
    "pycharm": {
     "name": "#%%\n"
    }
   },
   "outputs": [
    {
     "name": "stdout",
     "output_type": "stream",
     "text": [
      "\n"
     ]
    }
   ],
   "source": [
    "plot_decision_boundary_first_hidden(*weights_1[:, 1])"
   ]
  },
  {
   "cell_type": "code",
   "execution_count": 8,
   "id": "1cb456c4",
   "metadata": {
    "execution": {
     "iopub.execute_input": "2021-10-26T08:31:07.815995Z",
     "iopub.status.busy": "2021-10-26T08:31:07.815653Z",
     "iopub.status.idle": "2021-10-26T08:31:07.822429Z",
     "shell.execute_reply": "2021-10-26T08:31:07.822702Z"
    },
    "pycharm": {
     "name": "#%%\n"
    }
   },
   "outputs": [
    {
     "name": "stdout",
     "output_type": "stream",
     "text": [
      "\n"
     ]
    }
   ],
   "source": [
    "plot_decision_boundary_first_hidden(*weights_1[:, 2])"
   ]
  },
  {
   "cell_type": "code",
   "execution_count": 9,
   "id": "7c0ae80f",
   "metadata": {
    "execution": {
     "iopub.execute_input": "2021-10-26T08:31:07.827002Z",
     "iopub.status.busy": "2021-10-26T08:31:07.825260Z",
     "iopub.status.idle": "2021-10-26T08:31:07.832633Z",
     "shell.execute_reply": "2021-10-26T08:31:07.832266Z"
    },
    "pycharm": {
     "name": "#%%\n"
    }
   },
   "outputs": [
    {
     "name": "stdout",
     "output_type": "stream",
     "text": [
      "\n"
     ]
    }
   ],
   "source": [
    "plot_decision_boundary_first_hidden(*weights_1[:, 3])"
   ]
  },
  {
   "cell_type": "code",
   "execution_count": 10,
   "id": "274cda41",
   "metadata": {
    "execution": {
     "iopub.execute_input": "2021-10-26T08:31:07.837624Z",
     "iopub.status.busy": "2021-10-26T08:31:07.837271Z",
     "iopub.status.idle": "2021-10-26T08:31:07.842443Z",
     "shell.execute_reply": "2021-10-26T08:31:07.842095Z"
    },
    "pycharm": {
     "name": "#%%\n"
    }
   },
   "outputs": [
    {
     "name": "stdout",
     "output_type": "stream",
     "text": [
      "\n"
     ]
    }
   ],
   "source": [
    "plot_decision_boundary_first_hidden(*weights_1[:, 4])"
   ]
  },
  {
   "cell_type": "markdown",
   "id": "9eb85b97",
   "metadata": {
    "pycharm": {
     "name": "#%% md\n"
    }
   },
   "source": [
    "And this is the first hidden layer of the network. Let us compute its predictions for\n",
    "each point of the grid:"
   ]
  },
  {
   "cell_type": "code",
   "execution_count": 11,
   "id": "fb8a9b1c",
   "metadata": {
    "execution": {
     "iopub.execute_input": "2021-10-26T08:31:07.847829Z",
     "iopub.status.busy": "2021-10-26T08:31:07.847474Z",
     "iopub.status.idle": "2021-10-26T08:31:07.852273Z",
     "shell.execute_reply": "2021-10-26T08:31:07.851989Z"
    },
    "pycharm": {
     "name": "#%%\n"
    }
   },
   "outputs": [
    {
     "name": "stdout",
     "output_type": "stream",
     "text": [
      "\n"
     ]
    }
   ],
   "source": [
    "\n",
    "hidden_1 = (\n",
    "# TODO compute the output of the first hidden layer using a matrix multiplication.\n",
    ")\n",
    "\n",
    "# Make sure that the number of rows is not changed,\n",
    "print(len(hidden_1) == len(data))\n",
    "\n",
    "# that there are five columns,\n",
    "print(hidden_1.shape[1] == 5)\n",
    "\n",
    "# and that the values are between zero and one\n",
    "print(float(torch.min(hidden_1)), float(torch.max(hidden_1)))"
   ]
  },
  {
   "cell_type": "markdown",
   "id": "ed2554aa",
   "metadata": {
    "pycharm": {
     "name": "#%% md\n"
    }
   },
   "source": [
    "### Second hidden layer\n",
    "The second hidden layer is composed of two neurons, each activating for inputs inside\n",
    "one of the two triangles that make up our figure. These two neurons are connected to the\n",
    "four neurons of the previous layer, thus each of them has five parameters.\n",
    "\n",
    "Let us first create a new function to visualize the decision boundary of these\n",
    "neurons in the second hidden layer."
   ]
  },
  {
   "cell_type": "code",
   "execution_count": 12,
   "id": "e7295c2c",
   "metadata": {
    "execution": {
     "iopub.execute_input": "2021-10-26T08:31:07.857152Z",
     "iopub.status.busy": "2021-10-26T08:31:07.856790Z",
     "iopub.status.idle": "2021-10-26T08:31:07.861835Z",
     "shell.execute_reply": "2021-10-26T08:31:07.862139Z"
    },
    "pycharm": {
     "name": "#%%\n"
    }
   },
   "outputs": [
    {
     "name": "stdout",
     "output_type": "stream",
     "text": [
      "\n"
     ]
    }
   ],
   "source": [
    "def plot_decision_boundary_second_hidden (\n",
    "        a: int, b: int, c: int, d: int, e: int) -> None:\n",
    "    \"\"\"Take 5 weights for one hidden neuron and plot resulting decision boundary.\"\"\"\n",
    "    neuron_output = (\n",
    "# TODO compute the output of the neuron.\n",
    "# (The input is the result from the first layer)\n",
    "    )\n",
    "    plot_decision_boundary(grid_x, grid_y, neuron_output)\n",
    "\n",
    "plot_decision_boundary_second_hidden(-2, 3, -1, -3, 1)"
   ]
  },
  {
   "cell_type": "markdown",
   "id": "dd0c94d8",
   "metadata": {
    "pycharm": {
     "name": "#%% md\n"
    }
   },
   "source": [
    "Now, as before, find the coefficients for the two neurons and put them into a matrix\n",
    "with five rows and three columns. You can use the previous function to help you find\n",
    "these weights.\n",
    "\n",
    "**Hint:** You can think of these neurons as performing a logical AND operation on the\n",
    "outputs of the neurons of the previous layer. All points inside each triangle must be\n",
    "on the same side of three decision boundaries."
   ]
  },
  {
   "cell_type": "code",
   "execution_count": 13,
   "id": "99ad2036",
   "metadata": {
    "execution": {
     "iopub.execute_input": "2021-10-26T08:31:07.867114Z",
     "iopub.status.busy": "2021-10-26T08:31:07.866720Z",
     "iopub.status.idle": "2021-10-26T08:31:07.874838Z",
     "shell.execute_reply": "2021-10-26T08:31:07.875941Z"
    },
    "pycharm": {
     "name": "#%%\n"
    }
   },
   "outputs": [
    {
     "name": "stdout",
     "output_type": "stream",
     "text": [
      "\n"
     ]
    }
   ],
   "source": [
    "\n",
    "weights_2 = torch.tensor([\n",
    "    [1, 0, 0, 0, 0],   # bias neuron connected to the bias of the inputs\n",
    "# TODO find the coefficients for the first neuron.\n",
    "# TODO find the coefficients for the second neuron.\n",
    "], dtype=torch.float).T\n",
    "# Note: The weight matrix is transposed in the end. (3 x 5 --> 5 x 3)\n",
    "# This gives more readability when entering your weights manually.\n",
    "\n",
    "print(weights_2.shape)"
   ]
  },
  {
   "cell_type": "code",
   "execution_count": 14,
   "id": "330bcaa1",
   "metadata": {
    "execution": {
     "iopub.execute_input": "2021-10-26T08:31:07.891167Z",
     "iopub.status.busy": "2021-10-26T08:31:07.885335Z",
     "iopub.status.idle": "2021-10-26T08:31:07.906514Z",
     "shell.execute_reply": "2021-10-26T08:31:07.905390Z"
    },
    "pycharm": {
     "name": "#%%\n"
    }
   },
   "outputs": [
    {
     "name": "stdout",
     "output_type": "stream",
     "text": [
      "\n"
     ]
    }
   ],
   "source": [
    "plot_decision_boundary_second_hidden(*weights_2[:, 1])"
   ]
  },
  {
   "cell_type": "code",
   "execution_count": 15,
   "id": "1a5b9f55",
   "metadata": {
    "execution": {
     "iopub.execute_input": "2021-10-26T08:31:07.923690Z",
     "iopub.status.busy": "2021-10-26T08:31:07.922369Z",
     "iopub.status.idle": "2021-10-26T08:31:07.936119Z",
     "shell.execute_reply": "2021-10-26T08:31:07.937127Z"
    },
    "pycharm": {
     "name": "#%%\n"
    }
   },
   "outputs": [
    {
     "name": "stdout",
     "output_type": "stream",
     "text": [
      "\n"
     ]
    }
   ],
   "source": [
    "plot_decision_boundary_second_hidden(*weights_2[:, 2])"
   ]
  },
  {
   "cell_type": "code",
   "execution_count": 16,
   "id": "dace6396",
   "metadata": {
    "execution": {
     "iopub.execute_input": "2021-10-26T08:31:07.953846Z",
     "iopub.status.busy": "2021-10-26T08:31:07.947040Z",
     "iopub.status.idle": "2021-10-26T08:31:07.969644Z",
     "shell.execute_reply": "2021-10-26T08:31:07.968348Z"
    },
    "pycharm": {
     "name": "#%%\n"
    }
   },
   "outputs": [
    {
     "name": "stdout",
     "output_type": "stream",
     "text": [
      "\n"
     ]
    }
   ],
   "source": [
    "\n",
    "hidden_2 = (\n",
    "# TODO compute the output of the second hidden layer.\n",
    ")\n",
    "\n",
    "# Make sure that the number of rows is not changed,\n",
    "print(len(hidden_2) == len(data))\n",
    "\n",
    "# that there are five columns,\n",
    "print(hidden_2.shape[1] == 3)\n",
    "\n",
    "# and that the values are between zero and one\n",
    "print(float(torch.min(hidden_2)), float(torch.max(hidden_2)))"
   ]
  },
  {
   "cell_type": "markdown",
   "id": "227e027d",
   "metadata": {
    "pycharm": {
     "name": "#%% md\n"
    }
   },
   "source": [
    "### Output layer\n",
    "Finally, we can seek the parameters for the output neuron.\n",
    "It should activate when an input is inside either one of the two triangles.\n",
    "\n",
    "**Hint:** You can think of the output neuron as performing a logical OR operation on\n",
    "the outputs of the second hidden layer.\n",
    "\n",
    "Let us again modify the visualization function to show the decision of the network:"
   ]
  },
  {
   "cell_type": "code",
   "execution_count": 17,
   "id": "59bb1ba0",
   "metadata": {
    "execution": {
     "iopub.execute_input": "2021-10-26T08:31:07.987154Z",
     "iopub.status.busy": "2021-10-26T08:31:07.985852Z",
     "iopub.status.idle": "2021-10-26T08:31:07.998955Z",
     "shell.execute_reply": "2021-10-26T08:31:07.999953Z"
    },
    "pycharm": {
     "name": "#%%\n"
    }
   },
   "outputs": [
    {
     "name": "stdout",
     "output_type": "stream",
     "text": [
      "\n"
     ]
    }
   ],
   "source": [
    "def plot_decision_boundary_output (a: int, b: int, c: int) -> None:\n",
    "    \"\"\"Take 3 weights for one output neuron and plot resulting decision boundary.\"\"\"\n",
    "    neuron_output = (\n",
    "# TODO compute the output of the output neuron.\n",
    "# (The input is the result from the second layer)\n",
    "    )\n",
    "    plot_decision_boundary(grid_x, grid_y, neuron_output)"
   ]
  },
  {
   "cell_type": "markdown",
   "id": "8ed80d28",
   "metadata": {
    "pycharm": {
     "name": "#%% md\n"
    }
   },
   "source": [
    "Now fill in the parameters:"
   ]
  },
  {
   "cell_type": "code",
   "execution_count": 18,
   "id": "f1dbae08",
   "metadata": {
    "execution": {
     "iopub.execute_input": "2021-10-26T08:31:08.010686Z",
     "iopub.status.busy": "2021-10-26T08:31:08.009422Z",
     "iopub.status.idle": "2021-10-26T08:31:08.032114Z",
     "shell.execute_reply": "2021-10-26T08:31:08.030791Z"
    },
    "pycharm": {
     "name": "#%%\n"
    }
   },
   "outputs": [
    {
     "name": "stdout",
     "output_type": "stream",
     "text": [
      "\n"
     ]
    }
   ],
   "source": [
    "\n",
    "weights_3 = torch.tensor([\n",
    "# TODO find the coefficients for the output neuron.\n",
    "], dtype=torch.float)\n",
    "\n",
    "print(weights_3.shape)"
   ]
  },
  {
   "cell_type": "markdown",
   "id": "7078a6dc",
   "metadata": {
    "pycharm": {
     "name": "#%% md\n"
    }
   },
   "source": [
    "The output of the neural network is:\n"
   ]
  },
  {
   "cell_type": "code",
   "execution_count": 19,
   "id": "3d78320b",
   "metadata": {
    "execution": {
     "iopub.execute_input": "2021-10-26T08:31:08.046523Z",
     "iopub.status.busy": "2021-10-26T08:31:08.041460Z",
     "iopub.status.idle": "2021-10-26T08:31:08.063297Z",
     "shell.execute_reply": "2021-10-26T08:31:08.061888Z"
    },
    "pycharm": {
     "name": "#%%\n"
    }
   },
   "outputs": [
    {
     "name": "stdout",
     "output_type": "stream",
     "text": [
      "\n"
     ]
    }
   ],
   "source": [
    "plot_decision_boundary_output(*weights_3)"
   ]
  },
  {
   "cell_type": "markdown",
   "id": "64b9067b",
   "metadata": {
    "pycharm": {
     "name": "#%% md\n"
    }
   },
   "source": [
    "Let us recap how the output is computed:"
   ]
  },
  {
   "cell_type": "code",
   "execution_count": 20,
   "id": "f97f093f",
   "metadata": {
    "execution": {
     "iopub.execute_input": "2021-10-26T08:31:08.080915Z",
     "iopub.status.busy": "2021-10-26T08:31:08.073865Z",
     "iopub.status.idle": "2021-10-26T08:31:08.095934Z",
     "shell.execute_reply": "2021-10-26T08:31:08.094610Z"
    },
    "pycharm": {
     "name": "#%%\n"
    }
   },
   "outputs": [
    {
     "name": "stdout",
     "output_type": "stream",
     "text": [
      "\n"
     ]
    }
   ],
   "source": [
    "hidden_1 = activation(data @ weights_1)\n",
    "hidden_2 = activation(hidden_1 @ weights_2)\n",
    "output = hidden_2 @ weights_3"
   ]
  },
  {
   "cell_type": "markdown",
   "id": "7a5af34f",
   "metadata": {
    "pycharm": {
     "name": "#%% md\n"
    }
   },
   "source": [
    "This is, in essence, the *forward pass*.\n",
    "\n",
    "If you did everything correctly, you should see below the bow tie image we wanted to reproduce:"
   ]
  },
  {
   "cell_type": "code",
   "execution_count": 21,
   "id": "c59170eb",
   "metadata": {
    "execution": {
     "iopub.execute_input": "2021-10-26T08:31:08.113027Z",
     "iopub.status.busy": "2021-10-26T08:31:08.111617Z",
     "iopub.status.idle": "2021-10-26T08:31:08.127451Z",
     "shell.execute_reply": "2021-10-26T08:31:08.126082Z"
    },
    "pycharm": {
     "name": "#%%\n"
    }
   },
   "outputs": [
    {
     "name": "stdout",
     "output_type": "stream",
     "text": [
      "\n"
     ]
    }
   ],
   "source": [
    "plot_decision_boundary(grid_x, grid_y, output)"
   ]
  }
 ],
 "metadata": {
  "kernelspec": {
   "display_name": "Python 3 (ipykernel)",
   "language": "python",
   "name": "python3"
  },
  "language_info": {
   "codemirror_mode": {
    "name": "ipython",
    "version": 3
   },
   "file_extension": ".py",
   "mimetype": "text/x-python",
   "name": "python",
   "nbconvert_exporter": "python",
   "pygments_lexer": "ipython3",
   "version": "3.8.5"
  }
 },
 "nbformat": 4,
 "nbformat_minor": 5
}

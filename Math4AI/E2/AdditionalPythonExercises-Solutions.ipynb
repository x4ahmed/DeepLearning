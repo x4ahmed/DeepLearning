{
 "cells": [
  {
   "cell_type": "code",
   "execution_count": 1,
   "metadata": {},
   "outputs": [],
   "source": [
    "import numpy as np"
   ]
  },
  {
   "cell_type": "markdown",
   "metadata": {},
   "source": [
    "# Exercise 1\n",
    "\n",
    "Write a function $\\texttt{mydet(A)}$ that calculates the determinate of a given $n \\times n$ matrix $A$ using Laplace Expansion. "
   ]
  },
  {
   "cell_type": "code",
   "execution_count": 2,
   "metadata": {},
   "outputs": [
    {
     "data": {
      "text/plain": [
       "(array([[1, 3, 2, 0],\n",
       "        [1, 1, 2, 3],\n",
       "        [4, 0, 8, 3],\n",
       "        [2, 5, 4, 5]]), 0.0)"
      ]
     },
     "execution_count": 2,
     "metadata": {},
     "output_type": "execute_result"
    }
   ],
   "source": [
    "A1 = np.array([[1,3,2,0],[1,1,2,3],[4,0,8,3],[2,5,4,5]])\n",
    "A1, np.linalg.det(A1)"
   ]
  },
  {
   "cell_type": "code",
   "execution_count": 3,
   "metadata": {},
   "outputs": [
    {
     "data": {
      "text/plain": [
       "(array([[ 4,  5,  6,  6],\n",
       "        [ 7,  7,  9, -3],\n",
       "        [ 8,  4,  0, -7],\n",
       "        [-5,  3, -6, -4]]), -4485.0)"
      ]
     },
     "execution_count": 3,
     "metadata": {},
     "output_type": "execute_result"
    }
   ],
   "source": [
    "A2 = np.array([[4,5,6,6],[7,7,9,-3],[8,4,0,-7],[-5,3,-6,-4]])\n",
    "A2, np.linalg.det(A2)"
   ]
  },
  {
   "cell_type": "code",
   "execution_count": 4,
   "metadata": {},
   "outputs": [],
   "source": [
    "def mydet(A):\n",
    "    # A should be a quadratic matrix. The following line checks that and if it is not true, aborts the function:\n",
    "    # A.shape is a pair (nr. of rows, nr. of columns) -- we compare the two entries\n",
    "    assert A.shape[0] == A.shape[1], \"A not quadratic\" \n",
    "    \n",
    "    n = A.shape[0]\n",
    "    if(n == 1):\n",
    "        return A[0,0]\n",
    "    \n",
    "    det = 0\n",
    "    for i in range(n):\n",
    "        Ared = np.hstack((A[1:,:i], A[1:,i+1:]))\n",
    "        det += (-1)**i * A[0,i] * mydet(Ared)\n",
    "    return det\n",
    "\n",
    "\n",
    "\n",
    "\n",
    "\n",
    "\n",
    "\n",
    "\n",
    "\n",
    "\n",
    "\n",
    "\n",
    "\n",
    "\n",
    "C= [1]"
   ]
  },
  {
   "cell_type": "markdown",
   "metadata": {},
   "source": [
    "# Exercise 2\n",
    "\n",
    "Write a function $\\texttt{gauss(A,b)}$ that performs a Gaussian elimination on a $n \\times m$ matrix $A$ and a $n \\times 1$ vector $b$."
   ]
  },
  {
   "cell_type": "code",
   "execution_count": 19,
   "metadata": {
    "collapsed": true
   },
   "outputs": [],
   "source": [
    "def gauss(A,b):\n",
    "    \n",
    "    n, m = A.shape\n",
    "    assert n <= m\n",
    "    \n",
    "    for i in range(n):\n",
    "        p = np.argmax(np.abs(A[i:,i])) + i\n",
    "        b[[i,p]] = b[[p,i]]\n",
    "        A[[i,p]] = A[[p,i]]\n",
    "        \n",
    "        if np.linalg.norm(A[i,:]) < 1e-15:\n",
    "            b = np.hstack((b[:i], b[i+1:], b[i]))\n",
    "            A = np.vstack((A[:i,:], A[i+1:,:], A[i,:]))\n",
    "        \n",
    "        for j in range(i+1,n):\n",
    "            idx = i\n",
    "            for jj in range(i,n):\n",
    "                if abs(A[i,jj]) > 1e-15:\n",
    "                    idx = jj\n",
    "                    break\n",
    "            if abs(A[i,idx]) > 1e-15:\n",
    "                b[j] -= A[j,idx]/A[i,idx] * b[i]\n",
    "                A[j,:] -= A[j,idx]/A[i,idx] * A[i,:]\n",
    "    \n",
    "    return A, b"
   ]
  },
  {
   "cell_type": "code",
   "execution_count": 20,
   "metadata": {},
   "outputs": [
    {
     "data": {
      "text/plain": [
       "array([[ 1.,  2.,  3.],\n",
       "       [-3.,  4., -5.],\n",
       "       [ 5.,  6.,  7.]])"
      ]
     },
     "execution_count": 20,
     "metadata": {},
     "output_type": "execute_result"
    }
   ],
   "source": [
    "A = np.array([[1.,2.,3.],[-3.,4.,-5.],[5.,6.,7.]])\n",
    "A"
   ]
  },
  {
   "cell_type": "code",
   "execution_count": 21,
   "metadata": {},
   "outputs": [
    {
     "data": {
      "text/plain": [
       "array([1., 2., 3.])"
      ]
     },
     "execution_count": 21,
     "metadata": {},
     "output_type": "execute_result"
    }
   ],
   "source": [
    "b = np.array([1.,2.,3.])\n",
    "b"
   ]
  },
  {
   "cell_type": "code",
   "execution_count": 22,
   "metadata": {},
   "outputs": [
    {
     "data": {
      "text/plain": [
       "(array([[ 5.        ,  6.        ,  7.        ],\n",
       "        [ 0.        ,  7.6       , -0.8       ],\n",
       "        [ 0.        ,  0.        ,  1.68421053]]), array([3. , 3.8, 0. ]))"
      ]
     },
     "execution_count": 22,
     "metadata": {},
     "output_type": "execute_result"
    }
   ],
   "source": [
    "gauss(A,b)"
   ]
  },
  {
   "cell_type": "markdown",
   "metadata": {},
   "source": [
    "# Exercise 3"
   ]
  },
  {
   "cell_type": "markdown",
   "metadata": {
    "collapsed": true
   },
   "source": [
    "Write a function $\\texttt{im_base(A)}$ that returns the basis of the image of a function $f$ for which $A$ is the corresponding matrix."
   ]
  },
  {
   "cell_type": "code",
   "execution_count": 23,
   "metadata": {
    "collapsed": true
   },
   "outputs": [],
   "source": [
    "def im_base(A):\n",
    "    #Because gauss(A) works in-place, we make a copy\n",
    "    B = A.copy() \n",
    "    n, m = A.shape\n",
    "    #Assertion is not needed, it is here for simplicity because we use gauss\n",
    "    assert n <= m \n",
    "    A_red, _ = gauss(A, np.zeros(n))\n",
    "    idx = []\n",
    "    c = 0\n",
    "    #Find the pivot-rows\n",
    "    for i in range(m):\n",
    "        if abs(A_red[i-c,i]) > 1e-16:\n",
    "            idx.append(i)\n",
    "        else:\n",
    "            c += 1\n",
    "    #Build the basis from the pivot-rows\n",
    "    return B[:,idx]"
   ]
  },
  {
   "cell_type": "code",
   "execution_count": 25,
   "metadata": {
    "scrolled": true
   },
   "outputs": [
    {
     "data": {
      "text/plain": [
       "array([[1., 2., 3., 4.],\n",
       "       [2., 4., 7., 9.],\n",
       "       [1., 2., 4., 5.]])"
      ]
     },
     "execution_count": 25,
     "metadata": {},
     "output_type": "execute_result"
    }
   ],
   "source": [
    "A = np.array([[1.,2.,3.,4.],[2.,4.,7.,9.],[1.,2.,4.,5.]])\n",
    "A"
   ]
  },
  {
   "cell_type": "code",
   "execution_count": 26,
   "metadata": {
    "scrolled": true
   },
   "outputs": [
    {
     "data": {
      "text/plain": [
       "array([[1., 3.],\n",
       "       [2., 7.],\n",
       "       [1., 4.]])"
      ]
     },
     "execution_count": 26,
     "metadata": {},
     "output_type": "execute_result"
    }
   ],
   "source": [
    "im_base(A)"
   ]
  },
  {
   "cell_type": "markdown",
   "metadata": {},
   "source": [
    "# Exercise 4"
   ]
  },
  {
   "cell_type": "markdown",
   "metadata": {},
   "source": [
    "Write a function rref(A) that returns the reduced row echelon form of a given matrix A."
   ]
  },
  {
   "cell_type": "code",
   "execution_count": 12,
   "metadata": {
    "collapsed": true
   },
   "outputs": [],
   "source": [
    "def rref(B):\n",
    "    A = B.copy()\n",
    "    n, m = A.shape\n",
    "    r = 0\n",
    "    \n",
    "    for c in range(m):\n",
    "        ## Find the pivot row:\n",
    "        pivot = np.argmax(np.abs(A[r:n,c])) + r\n",
    "        if np.abs(A[pivot, c]) <= 1e-16:    \n",
    "            ## Skip column c\n",
    "            pass\n",
    "        else:\n",
    "            if pivot != r:\n",
    "                ## Swap current row and pivot row\n",
    "                A[[pivot, r], c:m] = A[[r, pivot], c:m]  \n",
    "                \n",
    "            ## Normalize pivot row\n",
    "            A[r, c:m] = A[r, c:m] / A[r, c];\n",
    "\n",
    "            ## Eliminate the current column\n",
    "            v = A[r, c:m]\n",
    "            \n",
    "            ## Above (before row r):\n",
    "            if r > 0:           \n",
    "                ridx_above = np.arange(r)\n",
    "                A[ridx_above, c:m] = A[ridx_above, c:m] - np.outer(v, A[ridx_above, c]).T\n",
    "                \n",
    "            ## Below (after row r):\n",
    "            if r < n-1:\n",
    "                ridx_below = np.arange(r+1,n)\n",
    "                A[ridx_below, c:m] = A[ridx_below, c:m] - np.outer(v, A[ridx_below, c]).T\n",
    "            r += 1\n",
    "            \n",
    "    ## Check if done\n",
    "    if r == n:\n",
    "        return A\n",
    "    return A"
   ]
  },
  {
   "cell_type": "code",
   "execution_count": 13,
   "metadata": {},
   "outputs": [
    {
     "data": {
      "text/plain": [
       "array([[1., 2., 3., 4.],\n",
       "       [2., 4., 7., 9.],\n",
       "       [1., 2., 4., 5.]])"
      ]
     },
     "execution_count": 13,
     "metadata": {},
     "output_type": "execute_result"
    }
   ],
   "source": [
    "A = np.array([[1.,2.,3.,4.],[2.,4.,7.,9.],[1.,2.,4.,5.]])\n",
    "A[1] = A[1]\n",
    "A"
   ]
  },
  {
   "cell_type": "code",
   "execution_count": 14,
   "metadata": {},
   "outputs": [
    {
     "data": {
      "text/plain": [
       "array([[1., 2., 0., 1.],\n",
       "       [0., 0., 1., 1.],\n",
       "       [0., 0., 0., 0.]])"
      ]
     },
     "execution_count": 14,
     "metadata": {},
     "output_type": "execute_result"
    }
   ],
   "source": [
    "rref(A)"
   ]
  },
  {
   "cell_type": "markdown",
   "metadata": {},
   "source": [
    "# Exercise 5"
   ]
  },
  {
   "cell_type": "markdown",
   "metadata": {
    "collapsed": true
   },
   "source": [
    "Write a function ker_base(A) that returns the basis of the kernel of a function f for which A is the corresponding matrix."
   ]
  },
  {
   "cell_type": "code",
   "execution_count": 11,
   "metadata": {},
   "outputs": [],
   "source": [
    "def ker_base(A):\n",
    "    n, m = A.shape\n",
    "    #Bring A into reduced row echelon form\n",
    "    A = rref(A)\n",
    "    idx = []\n",
    "    #Insert rows of [0,...,0,-1,0,...,0] at non-pivot rows\n",
    "    for i in range(m):\n",
    "        if abs(A[i,i]) < 1e-16:\n",
    "            b = np.zeros(m)\n",
    "            b[i] = -1\n",
    "            A = np.insert(A,i,b,axis=0)\n",
    "            idx.append(i)\n",
    "    #Delete zero-rows\n",
    "    N = A.shape[0]\n",
    "    if N > m:\n",
    "        del_idx = np.arange(m,N)\n",
    "        A = np.delete(A, del_idx, axis=0)\n",
    "    #Build the basis from the correct columns of A\n",
    "    B = A[:,idx]\n",
    "    return B"
   ]
  },
  {
   "cell_type": "code",
   "execution_count": 13,
   "metadata": {},
   "outputs": [
    {
     "data": {
      "text/plain": [
       "array([[1., 2., 3., 4.],\n",
       "       [2., 4., 7., 9.],\n",
       "       [1., 2., 4., 5.]])"
      ]
     },
     "execution_count": 13,
     "metadata": {},
     "output_type": "execute_result"
    }
   ],
   "source": [
    "A = np.array([[1.,2.,3.,4.],[2.,4.,7.,9.],[1.,2.,4.,5.]])\n",
    "A"
   ]
  },
  {
   "cell_type": "code",
   "execution_count": 14,
   "metadata": {
    "scrolled": false
   },
   "outputs": [
    {
     "data": {
      "text/plain": [
       "array([[ 2.,  1.],\n",
       "       [-1.,  0.],\n",
       "       [ 0.,  1.],\n",
       "       [ 0., -1.]])"
      ]
     },
     "execution_count": 14,
     "metadata": {},
     "output_type": "execute_result"
    }
   ],
   "source": [
    "ker_base(A)"
   ]
  }
 ],
 "metadata": {
  "kernelspec": {
   "display_name": "Python 3 (ipykernel)",
   "language": "python",
   "name": "python3"
  },
  "language_info": {
   "codemirror_mode": {
    "name": "ipython",
    "version": 3
   },
   "file_extension": ".py",
   "mimetype": "text/x-python",
   "name": "python",
   "nbconvert_exporter": "python",
   "pygments_lexer": "ipython3",
   "version": "3.11.7"
  }
 },
 "nbformat": 4,
 "nbformat_minor": 2
}

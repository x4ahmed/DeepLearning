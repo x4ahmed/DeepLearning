{
 "cells": [
  {
   "cell_type": "markdown",
   "metadata": {},
   "source": [
    "# Exercise 6"
   ]
  },
  {
   "cell_type": "markdown",
   "metadata": {},
   "source": [
    "(14 points)"
   ]
  },
  {
   "cell_type": "markdown",
   "metadata": {},
   "source": [
    "Write a function that, given an invertible matrix $A$, returns a list of elementary matrices whose product is $A$."
   ]
  },
  {
   "cell_type": "markdown",
   "metadata": {},
   "source": [
    "Hint: Think of how we produced the inverse of a matrix as a product of elementary matrices by doing row operations, that transformed the matrix into the unit matrix. From the list of these row operations we can easily produce the required list of elementary matrices.\n",
    "    \n",
    "    \n",
    "    "
   ]
  },
  {
   "cell_type": "markdown",
   "metadata": {},
   "source": [
    "As a warmup, given a matrix $A$, you can produce a list consisting of elementary matrices and a single matrix in row echelon form, such that the product of the matrices in this list gives back A. For this you can freely modify the code below. If you get this far you get 7 points."
   ]
  },
  {
   "cell_type": "code",
   "execution_count": 1,
   "metadata": {},
   "outputs": [],
   "source": [
    "import numpy as np"
   ]
  },
  {
   "cell_type": "code",
   "execution_count": 2,
   "metadata": {},
   "outputs": [],
   "source": [
    "# you can, but you don't need to use (parts of) this code\n",
    "#    - feel free to write your solution from scratch, if you prefer that!\n",
    "def row_echelon(given_matrix):\n",
    "    \"\"\"\n",
    "    Returns a matrix in row echelon form obtained from the given_matrix.\n",
    "    \"\"\"\n",
    "    # make a copy so that we don't change the original matrix\n",
    "    mat = given_matrix.copy()\n",
    "    nr_rows,nr_columns=mat.shape\n",
    "    # The algorithm runs through all the columns\n",
    "    start_row = 0\n",
    "    for current_column in range(nr_columns):\n",
    "        # every iteration ignores one more column, if we found a zero column, \n",
    "        # or one more row and column otherwise\n",
    "        # in each iteration go down the current leftmost column:\n",
    "        for r in range(start_row, nr_rows):\n",
    "            # find the first row with a nonzero entry in first column\n",
    "            if mat[r][current_column] == 0:\n",
    "                # case 1: we have a zero entry, but are not yet at the bottom row. \n",
    "                # Go to the next iteration of the inner for loop\n",
    "                # and consider the next entry in this column.\n",
    "                if r!=nr_rows-1:\n",
    "                    continue\n",
    "                # case 2: we arrived at the last row so we have a zero column. \n",
    "                # Go back to the outer for loop and consider the next column    \n",
    "                else:\n",
    "                    break\n",
    "            # if we arrived here we have found a non-zero entry in row r.\n",
    "            # Then swap our starting row with the first row\n",
    "            \"\"\"The .copy() was missing here before, causing the attempted row switching to overwrite a row\"\"\"\n",
    "            mat[start_row], mat[r] = mat[r].copy(), mat[start_row].copy()\n",
    "            # now add multiples of the new first row to lower rows\n",
    "            # such that lower entries of the current column become zero\n",
    "            upper_left_entry = mat[start_row][current_column]\n",
    "            for rr in range(start_row+1, nr_rows):\n",
    "                entry_that_should_become_zero = mat[rr][current_column]\n",
    "                scalar_multiple = -1 * entry_that_should_become_zero / upper_left_entry\n",
    "                for cc in range(current_column, nr_columns):\n",
    "                    mat[rr][cc] += mat[start_row][cc] * scalar_multiple\n",
    "            # The current start row will not be changed anymore\n",
    "            start_row += 1\n",
    "    return mat"
   ]
  },
  {
   "cell_type": "markdown",
   "metadata": {},
   "source": [
    "We tried to solve it on paper and verify the results with the code output, and it was working correctly but my logic needed modification to calculate the correct values of the elementary matrices in the below functions"
   ]
  },
  {
   "cell_type": "code",
   "execution_count": 14,
   "metadata": {},
   "outputs": [
    {
     "name": "stdout",
     "output_type": "stream",
     "text": [
      "[[ 1.  2.  3.]\n",
      " [ 0. -1. -2.]\n",
      " [ 0.  0.  2.]]\n",
      "[[ 1.  2.  3.]\n",
      " [ 0. -1. -2.]\n",
      " [ 0.  0.  2.]]\n"
     ]
    }
   ],
   "source": [
    "A=np.array([[1.,2.,3.],[1.,1.,1.],[5.,2.,1.]])\n",
    "\n",
    "E1=np.array([[1.,0.,0.],[-1.,1.,0.],[0.,0.,1.]])\n",
    "E2=np.array([[1.,0.,0.],[0.,1.,0.],[-5.,0.,1.]])\n",
    "E3=np.array([[1.,0.,0.],[0.,1.,0.],[0.,-8.,1.]])\n",
    "R=np.array([[1.,2.,3.],[0.,-1.,-2.],[0.,0.,2.]])\n",
    "\n",
    "result = E3@E2@E1@A\n",
    "print(result)\n",
    "print(row_echelon(A))"
   ]
  },
  {
   "cell_type": "markdown",
   "metadata": {},
   "source": [
    "Our master pieces :)"
   ]
  },
  {
   "cell_type": "code",
   "execution_count": null,
   "metadata": {},
   "outputs": [],
   "source": [
    "def elementary_matrices(given_matrix):\n",
    "    E1 = np.eye(3)\n",
    "    E2 = np.eye(3)\n",
    "    E3 = np.eye(3)\n",
    "\n",
    "\n",
    "    E1[1, 0] = -given_matrix[1, 0] / given_matrix[0, 0]\n",
    "    E2[2, 0] = -given_matrix[2, 0] / given_matrix[0, 0]\n",
    "\n",
    "\n",
    "    A1 = E1 @ given_matrix\n",
    "    A2 = E2 @ A1\n",
    "\n",
    "    E3[2, 1] = -A2[2, 1] / A2[1, 1]\n",
    "\n",
    "    return [E1, E2, E3]\n",
    "\n",
    "def inverse_elementary_matrices(E1, E2, E3):\n",
    "    E1_inv = np.eye(3)\n",
    "    E1_inv[1, 0] = -E1[1, 0]\n",
    "\n",
    "    E2_inv = np.eye(3)\n",
    "    E2_inv[2, 0] = -E2[2, 0]\n",
    "    E2_inv[1, 1] = 1 / E2[1, 1]\n",
    "    \n",
    "    E3_inv = np.eye(3)\n",
    "    E3_inv[2, 1] = -E3[2, 1]\n",
    "    E3_inv[1, 1] = 1 / E3[1, 1]\n",
    "\n",
    "    return [E1_inv, E2_inv, E3_inv]\n",
    "    # ...a list of elementary matrices (given as numpy arrays) whose product is given_matrix"
   ]
  },
  {
   "cell_type": "markdown",
   "metadata": {},
   "source": [
    "We started by trying to simply get the correct elementary matrices for the given matrix, then we adjusted the logic to fit any given 3x3 matrix not only with happy values like the given one :)\n",
    "\n",
    "Our logic mainly depends on getting the elementary matrices first, verfiy by multiplying them descendingly with the original matrix it should return the echelon matrix\n",
    "\n",
    "Then from the correct elementary matrices we calculated their inverse, verified by multiplying them ascendingly with the echelon matrix to get back the original matrix\n",
    "\n",
    "In general for bigger matrices we can think about implementing the same logic, not with fixed steps (E1,E2,E3) but with for-loops depending on the size of the given matrix"
   ]
  },
  {
   "cell_type": "code",
   "execution_count": 50,
   "metadata": {},
   "outputs": [
    {
     "name": "stdout",
     "output_type": "stream",
     "text": [
      "[[ 1.  2.  3.]\n",
      " [ 0. -1. -2.]\n",
      " [ 0.  0.  2.]]\n",
      "[[ 1.  2.  3.]\n",
      " [ 0. -1. -2.]\n",
      " [ 0.  0.  2.]]\n"
     ]
    }
   ],
   "source": [
    "A=np.array([[1.,2.,3.],[1.,1.,1.],[5.,2.,1.]])\n",
    "echelon = row_echelon(A)\n",
    "print(echelon)\n",
    "\n",
    "B1, B2, B3 = elementary_matrices(A)\n",
    "result = B3 @ B2 @ B1 @ A\n",
    "print(result)"
   ]
  },
  {
   "cell_type": "code",
   "execution_count": 51,
   "metadata": {},
   "outputs": [
    {
     "name": "stdout",
     "output_type": "stream",
     "text": [
      "[[  1.   2.   3.]\n",
      " [  0.   1.  -2.]\n",
      " [  0.   0. -30.]]\n",
      "[[  1.   2.   3.]\n",
      " [  0.   1.  -2.]\n",
      " [  0.   0. -30.]]\n"
     ]
    }
   ],
   "source": [
    "A=np.array([[1.,2.,3.],[1.,3.,1.],[5.,2.,1.]])\n",
    "echelon = row_echelon(A)\n",
    "print(echelon)\n",
    "\n",
    "B1, B2, B3 = elementary_matrices(A)\n",
    "result = B3 @ B2 @ B1 @ A\n",
    "print(result)"
   ]
  },
  {
   "cell_type": "code",
   "execution_count": 55,
   "metadata": {},
   "outputs": [
    {
     "name": "stdout",
     "output_type": "stream",
     "text": [
      "[[1. 2. 3.]\n",
      " [1. 3. 1.]\n",
      " [5. 2. 1.]]\n",
      "[[1. 2. 3.]\n",
      " [1. 3. 1.]\n",
      " [5. 2. 1.]]\n"
     ]
    }
   ],
   "source": [
    "A=np.array([[1.,2.,3.],[1.,3.,1.],[5.,2.,1.]])\n",
    "echelon = row_echelon(A)\n",
    "print(A)\n",
    "\n",
    "B1, B2, B3 = elementary_matrices(A)\n",
    "E1_inv, E2_inv, E3_inv = inverse_elementary_matrices(B1, B2, B3)\n",
    "result = E1_inv @ E2_inv @ E3_inv @ echelon\n",
    "print(result)"
   ]
  },
  {
   "cell_type": "markdown",
   "metadata": {},
   "source": [
    "Your function should be such that the following code returns $\\texttt{True}$ (also for other matrices than the concrete $A$ below, of course). Testing $\\texttt{A==B}$ might not exactly return $\\texttt{True}$ because of rounding errors or data type issues. So here is a test looking at whether the two matrices are close to each other."
   ]
  },
  {
   "cell_type": "markdown",
   "metadata": {},
   "source": [
    "(the test looks for the matrix distance in the $\\ell_1$-norm on the vector space of matrices, in the terminology of the lecture. In practice the threshold can be taken to be much closer to zero than 0.01)"
   ]
  },
  {
   "cell_type": "code",
   "execution_count": 56,
   "metadata": {},
   "outputs": [
    {
     "data": {
      "text/plain": [
       "np.True_"
      ]
     },
     "execution_count": 56,
     "metadata": {},
     "output_type": "execute_result"
    }
   ],
   "source": [
    "A=np.array([[1.,2.,3.],[1.,1.,1.],[5.,2.,1.]])\n",
    "echelon = row_echelon(A)\n",
    "\n",
    "B1, B2, B3 = elementary_matrices(A)\n",
    "E1_inv, E2_inv, E3_inv = inverse_elementary_matrices(B1, B2, B3)\n",
    "B = E1_inv @ E2_inv @ E3_inv @ echelon\n",
    "\n",
    "def matrix_distance(A,B):\n",
    "    sum_of_differences = 0\n",
    "    for i in range(len(B)):\n",
    "        for j in range(len(B[i])):\n",
    "            sum_of_differences += abs(A[i,j]-B[i,j]) \n",
    "    return sum_of_differences\n",
    "\n",
    "matrix_distance(A,B)<0.01"
   ]
  }
 ],
 "metadata": {
  "kernelspec": {
   "display_name": "base",
   "language": "python",
   "name": "python3"
  },
  "language_info": {
   "codemirror_mode": {
    "name": "ipython",
    "version": 3
   },
   "file_extension": ".py",
   "mimetype": "text/x-python",
   "name": "python",
   "nbconvert_exporter": "python",
   "pygments_lexer": "ipython3",
   "version": "3.13.5"
  }
 },
 "nbformat": 4,
 "nbformat_minor": 4
}

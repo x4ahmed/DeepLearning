{
 "cells": [
  {
   "cell_type": "markdown",
   "metadata": {},
   "source": [
    "# Exercise 6"
   ]
  },
  {
   "cell_type": "markdown",
   "metadata": {},
   "source": [
    "(14 points)"
   ]
  },
  {
   "cell_type": "markdown",
   "metadata": {},
   "source": [
    "Write a function that, given an invertible matrix $A$, returns a list of elementary matrices whose product is $A$."
   ]
  },
  {
   "cell_type": "markdown",
   "metadata": {},
   "source": [
    "Hint: Think of how we produced the inverse of a matrix as a product of elementary matrices by doing row operations, that transformed the matrix into the unit matrix. From the list of these row operations we can easily produce the required list of elementary matrices.\n",
    "    \n",
    "    \n",
    "    "
   ]
  },
  {
   "cell_type": "markdown",
   "metadata": {},
   "source": [
    "As a warmup, given a matrix $A$, you can produce a list consisting of elementary matrices and a single matrix in row echelon form, such that the product of the matrices in this list gives back A. For this you can freely modify the code below. If you get this far you get 7 points."
   ]
  },
  {
   "cell_type": "code",
   "execution_count": 1,
   "metadata": {},
   "outputs": [],
   "source": [
    "# you can, but you don't need to use (parts of) this code\n",
    "#    - feel free to write your solution from scratch, if you prefer that!\n",
    "def row_echelon(given_matrix):\n",
    "    \"\"\"\n",
    "    Returns a matrix in row echelon form obtained from the given_matrix.\n",
    "    \"\"\"\n",
    "    # make a copy so that we don't change the original matrix\n",
    "    mat = given_matrix.copy()\n",
    "    nr_rows,nr_columns=mat.shape\n",
    "    # The algorithm runs through all the columns\n",
    "    start_row = 0\n",
    "    for current_column in range(nr_columns):\n",
    "        # every iteration ignores one more column, if we found a zero column, \n",
    "        # or one more row and column otherwise\n",
    "        # in each iteration go down the current leftmost column:\n",
    "        for r in range(start_row, nr_rows):\n",
    "            # find the first row with a nonzero entry in first column\n",
    "            if mat[r][current_column] == 0:\n",
    "                # case 1: we have a zero entry, but are not yet at the bottom row. \n",
    "                # Go to the next iteration of the inner for loop\n",
    "                # and consider the next entry in this column.\n",
    "                if r!=nr_rows-1:\n",
    "                    continue\n",
    "                # case 2: we arrived at the last row so we have a zero column. \n",
    "                # Go back to the outer for loop and consider the next column    \n",
    "                else:\n",
    "                    break\n",
    "            # if we arrived here we have found a non-zero entry in row r.\n",
    "            # Then swap our starting row with the first row\n",
    "            \"\"\"The .copy() was missing here before, causing the attempted row switching to overwrite a row\"\"\"\n",
    "            mat[start_row], mat[r] = mat[r].copy(), mat[start_row].copy()\n",
    "            # now add multiples of the new first row to lower rows\n",
    "            # such that lower entries of the current column become zero\n",
    "            upper_left_entry = mat[start_row][current_column]\n",
    "            for rr in range(start_row+1, nr_rows):\n",
    "                entry_that_should_become_zero = mat[rr][current_column]\n",
    "                scalar_multiple = -1 * entry_that_should_become_zero / upper_left_entry\n",
    "                for cc in range(current_column, nr_columns):\n",
    "                    mat[rr][cc] += mat[start_row][cc] * scalar_multiple\n",
    "            # The current start row will not be changed anymore\n",
    "            start_row += 1\n",
    "    return mat"
   ]
  },
  {
   "cell_type": "code",
   "execution_count": null,
   "metadata": {},
   "outputs": [],
   "source": []
  },
  {
   "cell_type": "code",
   "execution_count": null,
   "metadata": {},
   "outputs": [],
   "source": [
    "def elementary_matrices(given_matrix):\n",
    "    \n",
    "    # ... your code goes here ...\n",
    "    \n",
    "    return # ...a list of elementary matrices (given as numpy arrays) whose product is given_matrix"
   ]
  },
  {
   "cell_type": "markdown",
   "metadata": {},
   "source": [
    "Your function should be such that the following code returns $\\texttt{True}$ (also for other matrices than the concrete $A$ below, of course). Testing $\\texttt{A==B}$ might not exactly return $\\texttt{True}$ because of rounding errors or data type issues. So here is a test looking at whether the two matrices are close to each other."
   ]
  },
  {
   "cell_type": "markdown",
   "metadata": {},
   "source": [
    "(the test looks for the matrix distance in the $\\ell_1$-norm on the vector space of matrices, in the terminology of the lecture. In practice the threshold can be taken to be much closer to zero than 0.01)"
   ]
  },
  {
   "cell_type": "code",
   "execution_count": 12,
   "metadata": {},
   "outputs": [
    {
     "data": {
      "text/plain": [
       "True"
      ]
     },
     "execution_count": 12,
     "metadata": {},
     "output_type": "execute_result"
    }
   ],
   "source": [
    "import numpy as np\n",
    "A=np.array([[1.,2.,3.],[1.,1.,1.],[5.,2.,1.]])\n",
    "B=np.eye(3)\n",
    "for C in elementary_matrices(A):\n",
    "    B=B@C\n",
    "\n",
    "def matrix_distance(A,B):\n",
    "    sum_of_differences = 0\n",
    "    for i in range(len(B)):\n",
    "        for j in range(len(B[i])):\n",
    "            sum_of_differences += abs(A[i,j]-B[i,j]) \n",
    "    return sum_of_differences\n",
    "\n",
    "matrix_distance(A,B)<0.01"
   ]
  },
  {
   "cell_type": "code",
   "execution_count": null,
   "metadata": {},
   "outputs": [],
   "source": []
  }
 ],
 "metadata": {
  "kernelspec": {
   "display_name": "Python 3 (ipykernel)",
   "language": "python",
   "name": "python3"
  },
  "language_info": {
   "codemirror_mode": {
    "name": "ipython",
    "version": 3
   },
   "file_extension": ".py",
   "mimetype": "text/x-python",
   "name": "python",
   "nbconvert_exporter": "python",
   "pygments_lexer": "ipython3",
   "version": "3.11.7"
  }
 },
 "nbformat": 4,
 "nbformat_minor": 4
}
